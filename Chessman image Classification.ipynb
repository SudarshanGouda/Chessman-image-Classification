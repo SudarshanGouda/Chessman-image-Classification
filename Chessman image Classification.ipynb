{
 "cells": [
  {
   "cell_type": "markdown",
   "id": "85fc7446",
   "metadata": {},
   "source": [
    "# Chessman image Classification"
   ]
  },
  {
   "cell_type": "code",
   "execution_count": 55,
   "id": "ea58f5b6",
   "metadata": {},
   "outputs": [],
   "source": [
    "from tensorflow.keras.preprocessing.image import ImageDataGenerator\n",
    "import numpy as np\n",
    "import pandas as pd\n",
    "import matplotlib.pyplot as plt\n",
    "import splitfolders"
   ]
  },
  {
   "cell_type": "code",
   "execution_count": 56,
   "id": "8d67ba36",
   "metadata": {},
   "outputs": [],
   "source": [
    "input_dir='E:\\\\DATA Science\\\\DEEP LEARNING\\\\CNN\\\\Chessman image Classification\\\\Chessman-image-dataset\\\\Chess'\n",
    "output_dir='E:\\\\DATA Science\\\\DEEP LEARNING\\\\CNN\\\\Chessman image Classification\\\\Chessman-image-dataset\\\\Chess_Split'"
   ]
  },
  {
   "cell_type": "code",
   "execution_count": 57,
   "id": "6ce4ddd2",
   "metadata": {},
   "outputs": [],
   "source": [
    "#splitfolders.ratio(input=input_dir,output=output_dir,ratio=(0.8, 0.1, 0.1))"
   ]
  },
  {
   "cell_type": "code",
   "execution_count": 58,
   "id": "8ae0b07b",
   "metadata": {},
   "outputs": [],
   "source": [
    "dataGen=ImageDataGenerator(rescale=1/255)"
   ]
  },
  {
   "cell_type": "code",
   "execution_count": 59,
   "id": "489202af",
   "metadata": {},
   "outputs": [],
   "source": [
    "train_dir='E:\\\\DATA Science\\\\DEEP LEARNING\\\\CNN\\\\Chessman image Classification\\\\Chessman-image-dataset\\\\Chess_Split\\\\train'\n",
    "test_dir='E:\\\\DATA Science\\\\DEEP LEARNING\\\\CNN\\\\Chessman image Classification\\\\Chessman-image-dataset\\\\Chess_Split\\\\test'\n",
    "val_dir='E:\\\\DATA Science\\\\DEEP LEARNING\\\\CNN\\\\Chessman image Classification\\\\Chessman-image-dataset\\\\Chess_Split\\\\val'"
   ]
  },
  {
   "cell_type": "code",
   "execution_count": 60,
   "id": "29c6cb94",
   "metadata": {},
   "outputs": [
    {
     "name": "stdout",
     "output_type": "stream",
     "text": [
      "Found 436 images belonging to 6 classes.\n",
      "Found 63 images belonging to 6 classes.\n",
      "Found 52 images belonging to 6 classes.\n"
     ]
    }
   ],
   "source": [
    "train_gen=dataGen.flow_from_directory(train_dir,target_size=(100, 100))\n",
    "test_gen=dataGen.flow_from_directory(test_dir,target_size=(100, 100))\n",
    "val_gen=dataGen.flow_from_directory(val_dir,target_size=(100, 100))"
   ]
  },
  {
   "cell_type": "code",
   "execution_count": 61,
   "id": "876760b3",
   "metadata": {},
   "outputs": [],
   "source": [
    "from tensorflow.keras import Sequential\n",
    "from tensorflow.keras.layers import Conv2D,MaxPooling2D,Dense,Flatten\n",
    "from tensorflow.keras.callbacks import EarlyStopping"
   ]
  },
  {
   "cell_type": "code",
   "execution_count": 62,
   "id": "e779fbd7",
   "metadata": {},
   "outputs": [],
   "source": [
    "model=Sequential()"
   ]
  },
  {
   "cell_type": "code",
   "execution_count": 63,
   "id": "8a3f0860",
   "metadata": {},
   "outputs": [],
   "source": [
    "model.add(Conv2D(32,(3,3),activation='relu',input_shape=(100,100,3)))\n",
    "model.add(MaxPooling2D((2,2)))\n",
    "\n",
    "model.add(Conv2D(64,(3,3),activation='relu'))\n",
    "model.add(MaxPooling2D((2,2)))\n",
    "\n",
    "model.add(Conv2D(128,(3,3),activation='relu'))\n",
    "model.add(MaxPooling2D((2,2)))\n",
    "\n",
    "model.add(Flatten())\n",
    "\n",
    "model.add(Dense(512,activation='relu'))\n",
    "\n",
    "model.add(Dense(6,activation='softmax'))"
   ]
  },
  {
   "cell_type": "code",
   "execution_count": 64,
   "id": "339e84dd",
   "metadata": {},
   "outputs": [],
   "source": [
    "model.compile(optimizer='adam',loss='categorical_crossentropy',metrics=['accuracy'])\n",
    "#early_stop= EarlyStopping(monitor='val_loss',patience=3,mode='min',verbose=False)"
   ]
  },
  {
   "cell_type": "code",
   "execution_count": 65,
   "id": "68e7871b",
   "metadata": {
    "scrolled": false
   },
   "outputs": [
    {
     "name": "stdout",
     "output_type": "stream",
     "text": [
      "Epoch 1/50\n",
      "14/14 [==============================] - 17s 1s/step - loss: 1.9876 - accuracy: 0.1950 - val_loss: 1.7865 - val_accuracy: 0.2063\n",
      "Epoch 2/50\n",
      "14/14 [==============================] - 15s 1s/step - loss: 1.7542 - accuracy: 0.2775 - val_loss: 1.7635 - val_accuracy: 0.2381\n",
      "Epoch 3/50\n",
      "14/14 [==============================] - 15s 1s/step - loss: 1.6501 - accuracy: 0.3280 - val_loss: 1.7375 - val_accuracy: 0.2381\n",
      "Epoch 4/50\n",
      "14/14 [==============================] - 15s 1s/step - loss: 1.4739 - accuracy: 0.4266 - val_loss: 1.8681 - val_accuracy: 0.2381\n",
      "Epoch 5/50\n",
      "14/14 [==============================] - 15s 1s/step - loss: 1.2062 - accuracy: 0.5436 - val_loss: 1.8947 - val_accuracy: 0.3175\n",
      "Epoch 6/50\n",
      "14/14 [==============================] - 16s 1s/step - loss: 0.9652 - accuracy: 0.6399 - val_loss: 1.8722 - val_accuracy: 0.3333\n",
      "Epoch 7/50\n",
      "14/14 [==============================] - 16s 1s/step - loss: 0.7924 - accuracy: 0.6812 - val_loss: 2.1731 - val_accuracy: 0.3651\n",
      "Epoch 8/50\n",
      "14/14 [==============================] - 15s 1s/step - loss: 0.6598 - accuracy: 0.7454 - val_loss: 2.2999 - val_accuracy: 0.3175\n",
      "Epoch 9/50\n",
      "14/14 [==============================] - 15s 1s/step - loss: 0.5160 - accuracy: 0.7959 - val_loss: 2.4624 - val_accuracy: 0.3492\n",
      "Epoch 10/50\n",
      "14/14 [==============================] - 15s 1s/step - loss: 0.4355 - accuracy: 0.8417 - val_loss: 2.7089 - val_accuracy: 0.3492\n",
      "Epoch 11/50\n",
      "14/14 [==============================] - 15s 1s/step - loss: 0.3790 - accuracy: 0.8716 - val_loss: 2.7455 - val_accuracy: 0.4127\n",
      "Epoch 12/50\n",
      "14/14 [==============================] - 16s 1s/step - loss: 0.2340 - accuracy: 0.9151 - val_loss: 3.3028 - val_accuracy: 0.3968\n",
      "Epoch 13/50\n",
      "14/14 [==============================] - 15s 1s/step - loss: 0.1779 - accuracy: 0.9404 - val_loss: 3.2402 - val_accuracy: 0.4286\n",
      "Epoch 14/50\n",
      "14/14 [==============================] - 15s 1s/step - loss: 0.1791 - accuracy: 0.9450 - val_loss: 3.3273 - val_accuracy: 0.4286\n",
      "Epoch 15/50\n",
      "14/14 [==============================] - 15s 1s/step - loss: 0.1579 - accuracy: 0.9656 - val_loss: 3.5425 - val_accuracy: 0.3333\n",
      "Epoch 16/50\n",
      "14/14 [==============================] - 16s 1s/step - loss: 0.2012 - accuracy: 0.9312 - val_loss: 3.8976 - val_accuracy: 0.3333\n",
      "Epoch 17/50\n",
      "14/14 [==============================] - 15s 1s/step - loss: 0.1113 - accuracy: 0.9725 - val_loss: 4.2250 - val_accuracy: 0.3333\n",
      "Epoch 18/50\n",
      "14/14 [==============================] - 15s 1s/step - loss: 0.0628 - accuracy: 0.9839 - val_loss: 4.1465 - val_accuracy: 0.4127\n",
      "Epoch 19/50\n",
      "14/14 [==============================] - 15s 1s/step - loss: 0.0480 - accuracy: 0.9931 - val_loss: 4.6418 - val_accuracy: 0.3651\n",
      "Epoch 20/50\n",
      "14/14 [==============================] - 15s 1s/step - loss: 0.0405 - accuracy: 0.9885 - val_loss: 5.0321 - val_accuracy: 0.4127\n",
      "Epoch 21/50\n",
      "14/14 [==============================] - 15s 1s/step - loss: 0.0351 - accuracy: 0.9931 - val_loss: 4.6063 - val_accuracy: 0.4286\n",
      "Epoch 22/50\n",
      "14/14 [==============================] - 15s 1s/step - loss: 0.0289 - accuracy: 0.9954 - val_loss: 5.2955 - val_accuracy: 0.4127\n",
      "Epoch 23/50\n",
      "14/14 [==============================] - 15s 1s/step - loss: 0.0239 - accuracy: 0.9954 - val_loss: 4.9231 - val_accuracy: 0.4127\n",
      "Epoch 24/50\n",
      "14/14 [==============================] - 15s 1s/step - loss: 0.0130 - accuracy: 0.9977 - val_loss: 5.9997 - val_accuracy: 0.3968\n",
      "Epoch 25/50\n",
      "14/14 [==============================] - 16s 1s/step - loss: 0.0118 - accuracy: 1.0000 - val_loss: 5.1127 - val_accuracy: 0.4286\n",
      "Epoch 26/50\n",
      "14/14 [==============================] - 15s 1s/step - loss: 0.0150 - accuracy: 0.9954 - val_loss: 6.0081 - val_accuracy: 0.3651\n",
      "Epoch 27/50\n",
      "14/14 [==============================] - 15s 1s/step - loss: 0.0167 - accuracy: 0.9954 - val_loss: 5.4960 - val_accuracy: 0.4444\n",
      "Epoch 28/50\n",
      "14/14 [==============================] - 15s 1s/step - loss: 0.0120 - accuracy: 0.9977 - val_loss: 6.0972 - val_accuracy: 0.4127\n",
      "Epoch 29/50\n",
      "14/14 [==============================] - 15s 1s/step - loss: 0.0079 - accuracy: 0.9977 - val_loss: 6.1322 - val_accuracy: 0.4127\n",
      "Epoch 30/50\n",
      "14/14 [==============================] - 15s 1s/step - loss: 0.0058 - accuracy: 0.9977 - val_loss: 6.1533 - val_accuracy: 0.4127\n",
      "Epoch 31/50\n",
      "14/14 [==============================] - 15s 1s/step - loss: 0.0039 - accuracy: 1.0000 - val_loss: 6.4671 - val_accuracy: 0.4127\n",
      "Epoch 32/50\n",
      "14/14 [==============================] - 15s 1s/step - loss: 0.0038 - accuracy: 1.0000 - val_loss: 6.5687 - val_accuracy: 0.4127\n",
      "Epoch 33/50\n",
      "14/14 [==============================] - 15s 1s/step - loss: 0.0040 - accuracy: 1.0000 - val_loss: 6.5823 - val_accuracy: 0.4127\n",
      "Epoch 34/50\n",
      "14/14 [==============================] - 15s 1s/step - loss: 0.0026 - accuracy: 1.0000 - val_loss: 6.6993 - val_accuracy: 0.4286\n",
      "Epoch 35/50\n",
      "14/14 [==============================] - 15s 1s/step - loss: 0.0022 - accuracy: 1.0000 - val_loss: 6.9168 - val_accuracy: 0.3968\n",
      "Epoch 36/50\n",
      "14/14 [==============================] - 15s 1s/step - loss: 0.0022 - accuracy: 1.0000 - val_loss: 6.8110 - val_accuracy: 0.4286\n",
      "Epoch 37/50\n",
      "14/14 [==============================] - 15s 1s/step - loss: 0.0018 - accuracy: 1.0000 - val_loss: 6.9119 - val_accuracy: 0.4127\n",
      "Epoch 38/50\n",
      "14/14 [==============================] - 16s 1s/step - loss: 0.0015 - accuracy: 1.0000 - val_loss: 7.1219 - val_accuracy: 0.4127\n",
      "Epoch 39/50\n",
      "14/14 [==============================] - 15s 1s/step - loss: 0.0015 - accuracy: 1.0000 - val_loss: 7.1112 - val_accuracy: 0.4286\n",
      "Epoch 40/50\n",
      "14/14 [==============================] - 15s 1s/step - loss: 0.0017 - accuracy: 1.0000 - val_loss: 7.0592 - val_accuracy: 0.4286\n",
      "Epoch 41/50\n",
      "14/14 [==============================] - 15s 1s/step - loss: 0.0013 - accuracy: 1.0000 - val_loss: 7.2985 - val_accuracy: 0.4127\n",
      "Epoch 42/50\n",
      "14/14 [==============================] - 15s 1s/step - loss: 0.0010 - accuracy: 1.0000 - val_loss: 7.3506 - val_accuracy: 0.4127\n",
      "Epoch 43/50\n",
      "14/14 [==============================] - 15s 1s/step - loss: 9.8671e-04 - accuracy: 1.0000 - val_loss: 7.3645 - val_accuracy: 0.4286\n",
      "Epoch 44/50\n",
      "14/14 [==============================] - 15s 1s/step - loss: 9.3764e-04 - accuracy: 1.0000 - val_loss: 7.3591 - val_accuracy: 0.4127\n",
      "Epoch 45/50\n",
      "14/14 [==============================] - 15s 1s/step - loss: 7.1919e-04 - accuracy: 1.0000 - val_loss: 7.4594 - val_accuracy: 0.4127\n",
      "Epoch 46/50\n",
      "14/14 [==============================] - 16s 1s/step - loss: 8.2220e-04 - accuracy: 1.0000 - val_loss: 7.4718 - val_accuracy: 0.4127\n",
      "Epoch 47/50\n",
      "14/14 [==============================] - 15s 1s/step - loss: 8.4813e-04 - accuracy: 1.0000 - val_loss: 7.4674 - val_accuracy: 0.3968\n",
      "Epoch 48/50\n",
      "14/14 [==============================] - 15s 1s/step - loss: 6.3684e-04 - accuracy: 1.0000 - val_loss: 7.5412 - val_accuracy: 0.4127\n",
      "Epoch 49/50\n",
      "14/14 [==============================] - 15s 1s/step - loss: 6.0761e-04 - accuracy: 1.0000 - val_loss: 7.6264 - val_accuracy: 0.4127\n",
      "Epoch 50/50\n",
      "14/14 [==============================] - 17s 1s/step - loss: 5.2766e-04 - accuracy: 1.0000 - val_loss: 7.6595 - val_accuracy: 0.3968\n"
     ]
    },
    {
     "data": {
      "text/plain": [
       "<keras.callbacks.History at 0x24058b1b220>"
      ]
     },
     "execution_count": 65,
     "metadata": {},
     "output_type": "execute_result"
    }
   ],
   "source": [
    "model.fit(train_gen,validation_data=test_gen,epochs=50)"
   ]
  },
  {
   "cell_type": "code",
   "execution_count": 66,
   "id": "479c767c",
   "metadata": {},
   "outputs": [
    {
     "data": {
      "text/plain": [
       "<AxesSubplot:>"
      ]
     },
     "execution_count": 66,
     "metadata": {},
     "output_type": "execute_result"
    },
    {
     "data": {
      "image/png": "[encoded data removed]",
      "text/plain": [
       "<Figure size 432x288 with 1 Axes>"
      ]
     },
     "metadata": {
      "needs_background": "light"
     },
     "output_type": "display_data"
    }
   ],
   "source": [
    "losses = pd.DataFrame(model.history.history)\n",
    "losses.plot()"
   ]
  },
  {
   "cell_type": "code",
   "execution_count": 67,
   "id": "54ffec95",
   "metadata": {},
   "outputs": [
    {
     "name": "stdout",
     "output_type": "stream",
     "text": [
      "2/2 [==============================] - 1s 453ms/step - loss: 7.6595 - accuracy: 0.3968\n"
     ]
    },
    {
     "data": {
      "text/plain": [
       "[7.659521579742432, 0.3968254029750824]"
      ]
     },
     "execution_count": 67,
     "metadata": {},
     "output_type": "execute_result"
    }
   ],
   "source": [
    "model.evaluate(test_gen)"
   ]
  }
 ],
 "metadata": {
  "kernelspec": {
   "display_name": "Python 3 (ipykernel)",
   "language": "python",
   "name": "python3"
  },
  "language_info": {
   "codemirror_mode": {
    "name": "ipython",
    "version": 3
   },
   "file_extension": ".py",
   "mimetype": "text/x-python",
   "name": "python",
   "nbconvert_exporter": "python",
   "pygments_lexer": "ipython3",
   "version": "3.9.12"
  }
 },
 "nbformat": 4,
 "nbformat_minor": 5
}
